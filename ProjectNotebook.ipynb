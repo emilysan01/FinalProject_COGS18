{
 "cells": [
  {
   "cell_type": "markdown",
   "metadata": {},
   "source": [
    "# Project Description"
   ]
  },
  {
   "cell_type": "markdown",
   "metadata": {},
   "source": [
    "This project helps the user build a skincare regimen.\n",
    "- First 3 functions determine the best cleanser, moisturizer, and sunscreen based on the user's input budget.\n",
    "    - Products recommended are either relatively cheap, affordable, or expensive. \n",
    "- After the products are recommended, the total cost is calculated. \n",
    "- At the end, the user can see a chart of the products and prices associated with them."
   ]
  },
  {
   "cell_type": "markdown",
   "metadata": {},
   "source": [
    "## Project Code\n",
    "\n",
    "If it makes sense for your project, you can have code and outputs here in the notebook as well."
   ]
  },
  {
   "cell_type": "code",
   "execution_count": 1,
   "metadata": {},
   "outputs": [
    {
     "name": "stdout",
     "output_type": "stream",
     "text": [
      "Lets help build your skincare regimen! \n",
      "Answer the following questions to figure out the best\n",
      "cleanser, moisturizer, and sunscreen for you based on your budget.\n",
      "Please note the prices are pre-tax. \n",
      "\n",
      "Enter your name to begin! Emily\n",
      "\n",
      "How many dollars would you spend on a cleanser? \n",
      "10\n",
      "I recommend: increasing your budget (: \n",
      "\n",
      "How many dollars would you spend on a moisturizer? \n",
      "100\n",
      "I recommend: First Aid Beauty Ultra Repair Cream \n",
      "\n",
      "How many dollars would you spend on a sunscreen? \n",
      "1000\n",
      "I recommend: NOT SPENDING THIS MUCH ON A SKINCARE PRODUCT?!4#$@#^$#^% \n",
      "\n",
      "We just helped pick your products! \n",
      "Now let's calculate the total cost of recommended skincare products.\n",
      "Type anything in the chatbox to continue. \n",
      "Ok\n",
      "\n",
      "Your total for the products is $46 \n",
      "\n",
      "If you're curious about the price of each product,\n",
      "type anything in the chatbox to see the breakdown! \n",
      "Ok\n"
     ]
    },
    {
     "data": {
      "text/html": [
       "<style  type=\"text/css\" >\n",
       "    #T_8841e_ th {\n",
       "          text-align: left;\n",
       "    }#T_8841e_row0_col0,#T_8841e_row0_col1,#T_8841e_row1_col0,#T_8841e_row1_col1,#T_8841e_row2_col0,#T_8841e_row2_col1,#T_8841e_row3_col0,#T_8841e_row3_col1,#T_8841e_row4_col0,#T_8841e_row4_col1,#T_8841e_row5_col0,#T_8841e_row5_col1,#T_8841e_row6_col0,#T_8841e_row6_col1,#T_8841e_row7_col0,#T_8841e_row7_col1,#T_8841e_row8_col0,#T_8841e_row8_col1{\n",
       "            text-align:  left;\n",
       "        }</style><table id=\"T_8841e_\" ><thead>    <tr>        <th class=\"blank level0\" ></th>        <th class=\"col_heading level0 col0\" >Product</th>        <th class=\"col_heading level0 col1\" >Price</th>    </tr></thead><tbody>\n",
       "                <tr>\n",
       "                        <th id=\"T_8841e_level0_row0\" class=\"row_heading level0 row0\" >0</th>\n",
       "                        <td id=\"T_8841e_row0_col0\" class=\"data row0 col0\" >CeraVe Hydrating Cream to Foam Cleanser</td>\n",
       "                        <td id=\"T_8841e_row0_col1\" class=\"data row0 col1\" >$14</td>\n",
       "            </tr>\n",
       "            <tr>\n",
       "                        <th id=\"T_8841e_level0_row1\" class=\"row_heading level0 row1\" >1</th>\n",
       "                        <td id=\"T_8841e_row1_col0\" class=\"data row1 col0\" >First Aid Beauty Face Cleanser</td>\n",
       "                        <td id=\"T_8841e_row1_col1\" class=\"data row1 col1\" >$34</td>\n",
       "            </tr>\n",
       "            <tr>\n",
       "                        <th id=\"T_8841e_level0_row2\" class=\"row_heading level0 row2\" >2</th>\n",
       "                        <td id=\"T_8841e_row2_col0\" class=\"data row2 col0\" >La Prairie Purifying Cream Cleanser</td>\n",
       "                        <td id=\"T_8841e_row2_col1\" class=\"data row2 col1\" >$95</td>\n",
       "            </tr>\n",
       "            <tr>\n",
       "                        <th id=\"T_8841e_level0_row3\" class=\"row_heading level0 row3\" >3</th>\n",
       "                        <td id=\"T_8841e_row3_col0\" class=\"data row3 col0\" >CeraVe Moisturizing Cream</td>\n",
       "                        <td id=\"T_8841e_row3_col1\" class=\"data row3 col1\" >$10</td>\n",
       "            </tr>\n",
       "            <tr>\n",
       "                        <th id=\"T_8841e_level0_row4\" class=\"row_heading level0 row4\" >4</th>\n",
       "                        <td id=\"T_8841e_row4_col0\" class=\"data row4 col0\" >First Aid Beauty Ultra Repair Cream</td>\n",
       "                        <td id=\"T_8841e_row4_col1\" class=\"data row4 col1\" >$46</td>\n",
       "            </tr>\n",
       "            <tr>\n",
       "                        <th id=\"T_8841e_level0_row5\" class=\"row_heading level0 row5\" >5</th>\n",
       "                        <td id=\"T_8841e_row5_col0\" class=\"data row5 col0\" >Skinceuticals Triple Lipid Restore 2:4:2</td>\n",
       "                        <td id=\"T_8841e_row5_col1\" class=\"data row5 col1\" >$130</td>\n",
       "            </tr>\n",
       "            <tr>\n",
       "                        <th id=\"T_8841e_level0_row6\" class=\"row_heading level0 row6\" >6</th>\n",
       "                        <td id=\"T_8841e_row6_col0\" class=\"data row6 col0\" >CeraVe AM Facial Moisturizing Lotion SPF 30</td>\n",
       "                        <td id=\"T_8841e_row6_col1\" class=\"data row6 col1\" >$13</td>\n",
       "            </tr>\n",
       "            <tr>\n",
       "                        <th id=\"T_8841e_level0_row7\" class=\"row_heading level0 row7\" >7</th>\n",
       "                        <td id=\"T_8841e_row7_col0\" class=\"data row7 col0\" >First Aid Beauty # 5 in 1 Face Cream SPF 30</td>\n",
       "                        <td id=\"T_8841e_row7_col1\" class=\"data row7 col1\" >$40</td>\n",
       "            </tr>\n",
       "            <tr>\n",
       "                        <th id=\"T_8841e_level0_row8\" class=\"row_heading level0 row8\" >8</th>\n",
       "                        <td id=\"T_8841e_row8_col0\" class=\"data row8 col0\" >La Mer Broad Spectrum SPF 50 UV Protecting Fluid</td>\n",
       "                        <td id=\"T_8841e_row8_col1\" class=\"data row8 col1\" >$95</td>\n",
       "            </tr>\n",
       "    </tbody></table>"
      ],
      "text/plain": [
       "<pandas.io.formats.style.Styler at 0x7fb0b4461100>"
      ]
     },
     "metadata": {},
     "output_type": "display_data"
    }
   ],
   "source": [
    "from my_module.functions import cleanser, moisturizer, sunscreen, calculate_total, skincare"
   ]
  },
  {
   "cell_type": "code",
   "execution_count": 2,
   "metadata": {},
   "outputs": [
    {
     "name": "stdout",
     "output_type": "stream",
     "text": [
      "\n",
      "How many dollars would you spend on a cleanser? \n",
      "50\n"
     ]
    },
    {
     "data": {
      "text/plain": [
       "'I recommend: First Aid Beauty Face Cleanser \\n'"
      ]
     },
     "execution_count": 2,
     "metadata": {},
     "output_type": "execute_result"
    }
   ],
   "source": [
    "cleanser()"
   ]
  },
  {
   "cell_type": "markdown",
   "metadata": {},
   "source": [
    "#### Extra Credit (*optional*)\n",
    "\n",
    "- I had no coding experience prior to this class.\n",
    "- I went above and beyond by:\n",
    "    - defining 5 functions instead of 3\n",
    "    - including the price of each product using append statements\n",
    "    - including the total cost of the products recommended using a for loop\n",
    "    - displaying a chart of products and prices using a data frame"
   ]
  }
 ],
 "metadata": {
  "kernelspec": {
   "display_name": "Python 3 (ipykernel)",
   "language": "python",
   "name": "python3"
  },
  "language_info": {
   "codemirror_mode": {
    "name": "ipython",
    "version": 3
   },
   "file_extension": ".py",
   "mimetype": "text/x-python",
   "name": "python",
   "nbconvert_exporter": "python",
   "pygments_lexer": "ipython3",
   "version": "3.9.5"
  }
 },
 "nbformat": 4,
 "nbformat_minor": 2
}
